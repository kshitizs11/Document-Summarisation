{
 "cells": [
  {
   "cell_type": "code",
   "execution_count": 3,
   "metadata": {},
   "outputs": [],
   "source": [
    "text = \"\"\"Started out as a brash youngster, immense amount of hard work, commitment and will power made him the best and cut above the rest.\n",
    "Image for post\n",
    "Virat Kohli already has 70 international centuries to his name and is the quickest to reach the milestone.\n",
    "Virat Kohli is arguably the best batsman across all formats today. He began his journey in 2008. “Cheeku” as called by his teammates in his initial days, he has earned several other nicknames over the years. The superfluity of runs and consistency over the years has been the reason why he has been adorned with nicknames like Run Machine, Chase master and King Kohli. Today, Virat has the most double centuries as captain, fastest to reach 20,000 international runs and also the first cricketer to clean sweep the annual ICC awards. This meteoric rise of the Indian Captain has made him a favorite of the whole country.\n",
    "The Beginning\n",
    "“I was playing a four day game at the time and was supposed to resume batting the next day when this (father passed) happened at 2:30 odd in the morning. We all woke up but had no idea what to do. I literally saw him breathe his last,” said Virat Kohli in an interview. Kohli was playing for Delhi against Karnataka and went on to score 90.\n",
    "“Now I feel like it was the most impactful thing to have happened in my life. I came back from the game for the last rites, and promised my brother that I will play for India. My father was keen that I play for India and that was when everything in life became second priority. Cricket became first priority.\n",
    "It was under Virat’s leadership that India tasted success at the Under-19 World Cup in 2008. He got his maiden call for the national side in the same year. He was dismissed due to his low 18-run score in his debut match. Against Sri lanka, a year later, he scored his first international century and there has been no looking back since then.\n",
    "Image for post\n",
    "He became part of the regular squad and was included in the World Cup squad of 2011. He scored a century against Bangladesh which started India’s campaign. Kohli contributed a crucial 35 in the final that ended with a memorable six by the then captain MS Dhoni. Apart from the winning six, another striking image was of Virat carrying his idol Sachin on his shoulders giving signs of things to come in the future. When the master was asked on whom does he see breaking his record of 100 international tons, he said, “ Virat and Rohit are the ones.”\n",
    "The Setbacks\n",
    "After winning the highest title of cricket, expectations rose higher. He had a poor Indian Premier League(IPL) season in 2012. He later admitted that the glamorous side of the league had got to him, that he was distracted due to it. A poor show with scores of 1,8,25,0,39,28,0,7,6 and 20 in the five tests in England in 2014 followed thereafter. Looking back at the bleak phase, he went on to say “I have gone through a phase in my career where I had felt that it was the end of the world. I just didn’t know what to do and what to say to anyone, how to speak, how to communicate.”\n",
    "Image for post\n",
    "He had an average of 13.50 in the five tests against England in 2014.\n",
    "Road to Greatness\n",
    "Champions are not built overnight and setbacks are opportunities to perform at a new level. Post the tour of England in 2014, Kohli never had a rough patch in his career. Four years later in 2018, he amassed 593 runs and hit 2 centuries in England.\n",
    "After taking over as the captain from MS Dhoni, Kohli has led the team to series win in South Africa, England and Australia. His team became the first Asian team to win the series down under in 2019. He is the most successful test captain with 33 wins. Kohli has 70 centuries only behind Sachin. He scored over 20,000 runs in the last decade. With numerous such records, he is way ahead of his peers in terms of statistics and consistency.\n",
    "Image for post\n",
    "Kohli, at the age of 31, is at the peak of his powers. Whenever he steps on the field leading his team, the intensity and hunger to win is evident in his demeanour. This is what makes Virat Kohli ahead of any cricketer and a cut above the rest in the world.\"\"\""
   ]
  },
  {
   "cell_type": "code",
   "execution_count": 4,
   "metadata": {},
   "outputs": [
    {
     "data": {
      "text/plain": [
       "4104"
      ]
     },
     "execution_count": 4,
     "metadata": {},
     "output_type": "execute_result"
    }
   ],
   "source": [
    "len(text)"
   ]
  },
  {
   "cell_type": "code",
   "execution_count": 7,
   "metadata": {},
   "outputs": [],
   "source": [
    "import spacy\n",
    "from spacy.lang.en.stop_words import STOP_WORDS\n",
    "from string import punctuation"
   ]
  },
  {
   "cell_type": "code",
   "execution_count": 8,
   "metadata": {},
   "outputs": [],
   "source": [
    "stopwords = list(STOP_WORDS)"
   ]
  },
  {
   "cell_type": "code",
   "execution_count": 10,
   "metadata": {},
   "outputs": [],
   "source": [
    "nlp = spacy.load(\"en_core_web_sm\")"
   ]
  },
  {
   "cell_type": "code",
   "execution_count": 11,
   "metadata": {},
   "outputs": [],
   "source": [
    "doc = nlp(text)"
   ]
  },
  {
   "cell_type": "code",
   "execution_count": 12,
   "metadata": {},
   "outputs": [],
   "source": [
    "tokens = [token for token in doc]"
   ]
  },
  {
   "cell_type": "code",
   "execution_count": 13,
   "metadata": {},
   "outputs": [
    {
     "name": "stdout",
     "output_type": "stream",
     "text": [
      "[Started, out, as, a, brash, youngster, ,, immense, amount, of, hard, work, ,, commitment, and, will, power, made, him, the, best, and, cut, above, the, rest, ., \n",
      ", Image, for, post, \n",
      ", Virat, Kohli, already, has, 70, international, centuries, to, his, name, and, is, the, quickest, to, reach, the, milestone, ., \n",
      ", Virat, Kohli, is, arguably, the, best, batsman, across, all, formats, today, ., He, began, his, journey, in, 2008, ., “, Cheeku, ”, as, called, by, his, teammates, in, his, initial, days, ,, he, has, earned, several, other, nicknames, over, the, years, ., The, superfluity, of, runs, and, consistency, over, the, years, has, been, the, reason, why, he, has, been, adorned, with, nicknames, like, Run, Machine, ,, Chase, master, and, King, Kohli, ., Today, ,, Virat, has, the, most, double, centuries, as, captain, ,, fastest, to, reach, 20,000, international, runs, and, also, the, first, cricketer, to, clean, sweep, the, annual, ICC, awards, ., This, meteoric, rise, of, the, Indian, Captain, has, made, him, a, favorite, of, the, whole, country, ., \n",
      ", The, Beginning, \n",
      ", “, I, was, playing, a, four, day, game, at, the, time, and, was, supposed, to, resume, batting, the, next, day, when, this, (, father, passed, ), happened, at, 2:30, odd, in, the, morning, ., We, all, woke, up, but, had, no, idea, what, to, do, ., I, literally, saw, him, breathe, his, last, ,, ”, said, Virat, Kohli, in, an, interview, ., Kohli, was, playing, for, Delhi, against, Karnataka, and, went, on, to, score, 90, ., \n",
      ", “, Now, I, feel, like, it, was, the, most, impactful, thing, to, have, happened, in, my, life, ., I, came, back, from, the, game, for, the, last, rites, ,, and, promised, my, brother, that, I, will, play, for, India, ., My, father, was, keen, that, I, play, for, India, and, that, was, when, everything, in, life, became, second, priority, ., Cricket, became, first, priority, ., \n",
      ", It, was, under, Virat, ’s, leadership, that, India, tasted, success, at, the, Under-19, World, Cup, in, 2008, ., He, got, his, maiden, call, for, the, national, side, in, the, same, year, ., He, was, dismissed, due, to, his, low, 18-run, score, in, his, debut, match, ., Against, Sri, lanka, ,, a, year, later, ,, he, scored, his, first, international, century, and, there, has, been, no, looking, back, since, then, ., \n",
      ", Image, for, post, \n",
      ", He, became, part, of, the, regular, squad, and, was, included, in, the, World, Cup, squad, of, 2011, ., He, scored, a, century, against, Bangladesh, which, started, India, ’s, campaign, ., Kohli, contributed, a, crucial, 35, in, the, final, that, ended, with, a, memorable, six, by, the, then, captain, MS, Dhoni, ., Apart, from, the, winning, six, ,, another, striking, image, was, of, Virat, carrying, his, idol, Sachin, on, his, shoulders, giving, signs, of, things, to, come, in, the, future, ., When, the, master, was, asked, on, whom, does, he, see, breaking, his, record, of, 100, international, tons, ,, he, said, ,, “, Virat, and, Rohit, are, the, ones, ., ”, \n",
      ", The, Setbacks, \n",
      ", After, winning, the, highest, title, of, cricket, ,, expectations, rose, higher, ., He, had, a, poor, Indian, Premier, League(IPL, ), season, in, 2012, ., He, later, admitted, that, the, glamorous, side, of, the, league, had, got, to, him, ,, that, he, was, distracted, due, to, it, ., A, poor, show, with, scores, of, 1,8,25,0,39,28,0,7,6, and, 20, in, the, five, tests, in, England, in, 2014, followed, thereafter, ., Looking, back, at, the, bleak, phase, ,, he, went, on, to, say, “, I, have, gone, through, a, phase, in, my, career, where, I, had, felt, that, it, was, the, end, of, the, world, ., I, just, did, n’t, know, what, to, do, and, what, to, say, to, anyone, ,, how, to, speak, ,, how, to, communicate, ., ”, \n",
      ", Image, for, post, \n",
      ", He, had, an, average, of, 13.50, in, the, five, tests, against, England, in, 2014, ., \n",
      ", Road, to, Greatness, \n",
      ", Champions, are, not, built, overnight, and, setbacks, are, opportunities, to, perform, at, a, new, level, ., Post, the, tour, of, England, in, 2014, ,, Kohli, never, had, a, rough, patch, in, his, career, ., Four, years, later, in, 2018, ,, he, amassed, 593, runs, and, hit, 2, centuries, in, England, ., \n",
      ", After, taking, over, as, the, captain, from, MS, Dhoni, ,, Kohli, has, led, the, team, to, series, win, in, South, Africa, ,, England, and, Australia, ., His, team, became, the, first, Asian, team, to, win, the, series, down, under, in, 2019, ., He, is, the, most, successful, test, captain, with, 33, wins, ., Kohli, has, 70, centuries, only, behind, Sachin, ., He, scored, over, 20,000, runs, in, the, last, decade, ., With, numerous, such, records, ,, he, is, way, ahead, of, his, peers, in, terms, of, statistics, and, consistency, ., \n",
      ", Image, for, post, \n",
      ", Kohli, ,, at, the, age, of, 31, ,, is, at, the, peak, of, his, powers, ., Whenever, he, steps, on, the, field, leading, his, team, ,, the, intensity, and, hunger, to, win, is, evident, in, his, demeanour, ., This, is, what, makes, Virat, Kohli, ahead, of, any, cricketer, and, a, cut, above, the, rest, in, the, world, .]\n"
     ]
    }
   ],
   "source": [
    "print(tokens)"
   ]
  },
  {
   "cell_type": "code",
   "execution_count": 14,
   "metadata": {},
   "outputs": [],
   "source": [
    "Punctuations = punctuation+\"\\n\""
   ]
  },
  {
   "cell_type": "code",
   "execution_count": 15,
   "metadata": {},
   "outputs": [
    {
     "data": {
      "text/plain": [
       "'!\"#$%&\\'()*+,-./:;<=>?@[\\\\]^_`{|}~\\n'"
      ]
     },
     "execution_count": 15,
     "metadata": {},
     "output_type": "execute_result"
    }
   ],
   "source": [
    "Punctuations"
   ]
  },
  {
   "cell_type": "markdown",
   "metadata": {},
   "source": [
    "# Counting Frequencies Of Each word in Corpus"
   ]
  },
  {
   "cell_type": "code",
   "execution_count": 20,
   "metadata": {},
   "outputs": [],
   "source": [
    "word_frequencies = {}\n",
    "for word in doc:\n",
    "    if word.text.lower() not in stopwords:\n",
    "        if word.text.lower() not in Punctuations:\n",
    "            if word.text not in word_frequencies.keys():\n",
    "                word_frequencies[word.text] = 1\n",
    "            else:\n",
    "                word_frequencies[word.text]+=1"
   ]
  },
  {
   "cell_type": "code",
   "execution_count": 21,
   "metadata": {},
   "outputs": [
    {
     "data": {
      "text/plain": [
       "{'Started': 1,\n",
       " 'brash': 1,\n",
       " 'youngster': 1,\n",
       " 'immense': 1,\n",
       " 'hard': 1,\n",
       " 'work': 1,\n",
       " 'commitment': 1,\n",
       " 'power': 1,\n",
       " 'best': 2,\n",
       " 'cut': 2,\n",
       " 'rest': 2,\n",
       " 'Image': 4,\n",
       " 'post': 4,\n",
       " 'Virat': 8,\n",
       " 'Kohli': 11,\n",
       " '70': 2,\n",
       " 'international': 4,\n",
       " 'centuries': 4,\n",
       " 'quickest': 1,\n",
       " 'reach': 2,\n",
       " 'milestone': 1,\n",
       " 'arguably': 1,\n",
       " 'batsman': 1,\n",
       " 'formats': 1,\n",
       " 'today': 1,\n",
       " 'began': 1,\n",
       " 'journey': 1,\n",
       " '2008': 2,\n",
       " '“': 5,\n",
       " 'Cheeku': 1,\n",
       " '”': 4,\n",
       " 'called': 1,\n",
       " 'teammates': 1,\n",
       " 'initial': 1,\n",
       " 'days': 1,\n",
       " 'earned': 1,\n",
       " 'nicknames': 2,\n",
       " 'years': 3,\n",
       " 'superfluity': 1,\n",
       " 'runs': 4,\n",
       " 'consistency': 2,\n",
       " 'reason': 1,\n",
       " 'adorned': 1,\n",
       " 'like': 2,\n",
       " 'Run': 1,\n",
       " 'Machine': 1,\n",
       " 'Chase': 1,\n",
       " 'master': 2,\n",
       " 'King': 1,\n",
       " 'Today': 1,\n",
       " 'double': 1,\n",
       " 'captain': 4,\n",
       " 'fastest': 1,\n",
       " '20,000': 2,\n",
       " 'cricketer': 2,\n",
       " 'clean': 1,\n",
       " 'sweep': 1,\n",
       " 'annual': 1,\n",
       " 'ICC': 1,\n",
       " 'awards': 1,\n",
       " 'meteoric': 1,\n",
       " 'rise': 1,\n",
       " 'Indian': 2,\n",
       " 'Captain': 1,\n",
       " 'favorite': 1,\n",
       " 'country': 1,\n",
       " 'Beginning': 1,\n",
       " 'playing': 2,\n",
       " 'day': 2,\n",
       " 'game': 2,\n",
       " 'time': 1,\n",
       " 'supposed': 1,\n",
       " 'resume': 1,\n",
       " 'batting': 1,\n",
       " 'father': 2,\n",
       " 'passed': 1,\n",
       " 'happened': 2,\n",
       " '2:30': 1,\n",
       " 'odd': 1,\n",
       " 'morning': 1,\n",
       " 'woke': 1,\n",
       " 'idea': 1,\n",
       " 'literally': 1,\n",
       " 'saw': 1,\n",
       " 'breathe': 1,\n",
       " 'said': 2,\n",
       " 'interview': 1,\n",
       " 'Delhi': 1,\n",
       " 'Karnataka': 1,\n",
       " 'went': 2,\n",
       " 'score': 2,\n",
       " '90': 1,\n",
       " 'feel': 1,\n",
       " 'impactful': 1,\n",
       " 'thing': 1,\n",
       " 'life': 2,\n",
       " 'came': 1,\n",
       " 'rites': 1,\n",
       " 'promised': 1,\n",
       " 'brother': 1,\n",
       " 'play': 2,\n",
       " 'India': 4,\n",
       " 'keen': 1,\n",
       " 'second': 1,\n",
       " 'priority': 2,\n",
       " 'Cricket': 1,\n",
       " 'leadership': 1,\n",
       " 'tasted': 1,\n",
       " 'success': 1,\n",
       " 'Under-19': 1,\n",
       " 'World': 2,\n",
       " 'Cup': 2,\n",
       " 'got': 2,\n",
       " 'maiden': 1,\n",
       " 'national': 1,\n",
       " 'year': 2,\n",
       " 'dismissed': 1,\n",
       " 'low': 1,\n",
       " '18-run': 1,\n",
       " 'debut': 1,\n",
       " 'match': 1,\n",
       " 'Sri': 1,\n",
       " 'lanka': 1,\n",
       " 'later': 3,\n",
       " 'scored': 3,\n",
       " 'century': 2,\n",
       " 'looking': 1,\n",
       " 'regular': 1,\n",
       " 'squad': 2,\n",
       " 'included': 1,\n",
       " '2011': 1,\n",
       " 'Bangladesh': 1,\n",
       " 'started': 1,\n",
       " 'campaign': 1,\n",
       " 'contributed': 1,\n",
       " 'crucial': 1,\n",
       " '35': 1,\n",
       " 'final': 1,\n",
       " 'ended': 1,\n",
       " 'memorable': 1,\n",
       " 'MS': 2,\n",
       " 'Dhoni': 2,\n",
       " 'Apart': 1,\n",
       " 'winning': 2,\n",
       " 'striking': 1,\n",
       " 'image': 1,\n",
       " 'carrying': 1,\n",
       " 'idol': 1,\n",
       " 'Sachin': 2,\n",
       " 'shoulders': 1,\n",
       " 'giving': 1,\n",
       " 'signs': 1,\n",
       " 'things': 1,\n",
       " 'come': 1,\n",
       " 'future': 1,\n",
       " 'asked': 1,\n",
       " 'breaking': 1,\n",
       " 'record': 1,\n",
       " '100': 1,\n",
       " 'tons': 1,\n",
       " 'Rohit': 1,\n",
       " 'ones': 1,\n",
       " 'Setbacks': 1,\n",
       " 'highest': 1,\n",
       " 'title': 1,\n",
       " 'cricket': 1,\n",
       " 'expectations': 1,\n",
       " 'rose': 1,\n",
       " 'higher': 1,\n",
       " 'poor': 2,\n",
       " 'Premier': 1,\n",
       " 'League(IPL': 1,\n",
       " 'season': 1,\n",
       " '2012': 1,\n",
       " 'admitted': 1,\n",
       " 'glamorous': 1,\n",
       " 'league': 1,\n",
       " 'distracted': 1,\n",
       " 'scores': 1,\n",
       " '1,8,25,0,39,28,0,7,6': 1,\n",
       " '20': 1,\n",
       " 'tests': 2,\n",
       " 'England': 5,\n",
       " '2014': 3,\n",
       " 'followed': 1,\n",
       " 'Looking': 1,\n",
       " 'bleak': 1,\n",
       " 'phase': 2,\n",
       " 'gone': 1,\n",
       " 'career': 2,\n",
       " 'felt': 1,\n",
       " 'end': 1,\n",
       " 'world': 2,\n",
       " 'know': 1,\n",
       " 'speak': 1,\n",
       " 'communicate': 1,\n",
       " 'average': 1,\n",
       " '13.50': 1,\n",
       " 'Road': 1,\n",
       " 'Greatness': 1,\n",
       " 'Champions': 1,\n",
       " 'built': 1,\n",
       " 'overnight': 1,\n",
       " 'setbacks': 1,\n",
       " 'opportunities': 1,\n",
       " 'perform': 1,\n",
       " 'new': 1,\n",
       " 'level': 1,\n",
       " 'Post': 1,\n",
       " 'tour': 1,\n",
       " 'rough': 1,\n",
       " 'patch': 1,\n",
       " '2018': 1,\n",
       " 'amassed': 1,\n",
       " '593': 1,\n",
       " 'hit': 1,\n",
       " '2': 1,\n",
       " 'taking': 1,\n",
       " 'led': 1,\n",
       " 'team': 4,\n",
       " 'series': 2,\n",
       " 'win': 3,\n",
       " 'South': 1,\n",
       " 'Africa': 1,\n",
       " 'Australia': 1,\n",
       " 'Asian': 1,\n",
       " '2019': 1,\n",
       " 'successful': 1,\n",
       " 'test': 1,\n",
       " '33': 1,\n",
       " 'wins': 1,\n",
       " 'decade': 1,\n",
       " 'numerous': 1,\n",
       " 'records': 1,\n",
       " 'way': 1,\n",
       " 'ahead': 2,\n",
       " 'peers': 1,\n",
       " 'terms': 1,\n",
       " 'statistics': 1,\n",
       " 'age': 1,\n",
       " '31': 1,\n",
       " 'peak': 1,\n",
       " 'powers': 1,\n",
       " 'steps': 1,\n",
       " 'field': 1,\n",
       " 'leading': 1,\n",
       " 'intensity': 1,\n",
       " 'hunger': 1,\n",
       " 'evident': 1,\n",
       " 'demeanour': 1,\n",
       " 'makes': 1}"
      ]
     },
     "execution_count": 21,
     "metadata": {},
     "output_type": "execute_result"
    }
   ],
   "source": [
    "word_frequencies"
   ]
  },
  {
   "cell_type": "code",
   "execution_count": 24,
   "metadata": {},
   "outputs": [],
   "source": [
    "max_frequency = max(word_frequencies.values())"
   ]
  },
  {
   "cell_type": "code",
   "execution_count": 25,
   "metadata": {},
   "outputs": [
    {
     "data": {
      "text/plain": [
       "11"
      ]
     },
     "execution_count": 25,
     "metadata": {},
     "output_type": "execute_result"
    }
   ],
   "source": [
    "max_frequency"
   ]
  },
  {
   "cell_type": "markdown",
   "metadata": {},
   "source": [
    "# Time TO Normalise All Words Frequencies so that they can remain in a range of 0-1"
   ]
  },
  {
   "cell_type": "code",
   "execution_count": 26,
   "metadata": {},
   "outputs": [],
   "source": [
    "for word in word_frequencies.keys():\n",
    "    word_frequencies[word] = word_frequencies[word]/max_frequency"
   ]
  },
  {
   "cell_type": "code",
   "execution_count": 27,
   "metadata": {},
   "outputs": [
    {
     "name": "stdout",
     "output_type": "stream",
     "text": [
      "{'Started': 0.09090909090909091, 'brash': 0.09090909090909091, 'youngster': 0.09090909090909091, 'immense': 0.09090909090909091, 'hard': 0.09090909090909091, 'work': 0.09090909090909091, 'commitment': 0.09090909090909091, 'power': 0.09090909090909091, 'best': 0.18181818181818182, 'cut': 0.18181818181818182, 'rest': 0.18181818181818182, 'Image': 0.36363636363636365, 'post': 0.36363636363636365, 'Virat': 0.7272727272727273, 'Kohli': 1.0, '70': 0.18181818181818182, 'international': 0.36363636363636365, 'centuries': 0.36363636363636365, 'quickest': 0.09090909090909091, 'reach': 0.18181818181818182, 'milestone': 0.09090909090909091, 'arguably': 0.09090909090909091, 'batsman': 0.09090909090909091, 'formats': 0.09090909090909091, 'today': 0.09090909090909091, 'began': 0.09090909090909091, 'journey': 0.09090909090909091, '2008': 0.18181818181818182, '“': 0.45454545454545453, 'Cheeku': 0.09090909090909091, '”': 0.36363636363636365, 'called': 0.09090909090909091, 'teammates': 0.09090909090909091, 'initial': 0.09090909090909091, 'days': 0.09090909090909091, 'earned': 0.09090909090909091, 'nicknames': 0.18181818181818182, 'years': 0.2727272727272727, 'superfluity': 0.09090909090909091, 'runs': 0.36363636363636365, 'consistency': 0.18181818181818182, 'reason': 0.09090909090909091, 'adorned': 0.09090909090909091, 'like': 0.18181818181818182, 'Run': 0.09090909090909091, 'Machine': 0.09090909090909091, 'Chase': 0.09090909090909091, 'master': 0.18181818181818182, 'King': 0.09090909090909091, 'Today': 0.09090909090909091, 'double': 0.09090909090909091, 'captain': 0.36363636363636365, 'fastest': 0.09090909090909091, '20,000': 0.18181818181818182, 'cricketer': 0.18181818181818182, 'clean': 0.09090909090909091, 'sweep': 0.09090909090909091, 'annual': 0.09090909090909091, 'ICC': 0.09090909090909091, 'awards': 0.09090909090909091, 'meteoric': 0.09090909090909091, 'rise': 0.09090909090909091, 'Indian': 0.18181818181818182, 'Captain': 0.09090909090909091, 'favorite': 0.09090909090909091, 'country': 0.09090909090909091, 'Beginning': 0.09090909090909091, 'playing': 0.18181818181818182, 'day': 0.18181818181818182, 'game': 0.18181818181818182, 'time': 0.09090909090909091, 'supposed': 0.09090909090909091, 'resume': 0.09090909090909091, 'batting': 0.09090909090909091, 'father': 0.18181818181818182, 'passed': 0.09090909090909091, 'happened': 0.18181818181818182, '2:30': 0.09090909090909091, 'odd': 0.09090909090909091, 'morning': 0.09090909090909091, 'woke': 0.09090909090909091, 'idea': 0.09090909090909091, 'literally': 0.09090909090909091, 'saw': 0.09090909090909091, 'breathe': 0.09090909090909091, 'said': 0.18181818181818182, 'interview': 0.09090909090909091, 'Delhi': 0.09090909090909091, 'Karnataka': 0.09090909090909091, 'went': 0.18181818181818182, 'score': 0.18181818181818182, '90': 0.09090909090909091, 'feel': 0.09090909090909091, 'impactful': 0.09090909090909091, 'thing': 0.09090909090909091, 'life': 0.18181818181818182, 'came': 0.09090909090909091, 'rites': 0.09090909090909091, 'promised': 0.09090909090909091, 'brother': 0.09090909090909091, 'play': 0.18181818181818182, 'India': 0.36363636363636365, 'keen': 0.09090909090909091, 'second': 0.09090909090909091, 'priority': 0.18181818181818182, 'Cricket': 0.09090909090909091, 'leadership': 0.09090909090909091, 'tasted': 0.09090909090909091, 'success': 0.09090909090909091, 'Under-19': 0.09090909090909091, 'World': 0.18181818181818182, 'Cup': 0.18181818181818182, 'got': 0.18181818181818182, 'maiden': 0.09090909090909091, 'national': 0.09090909090909091, 'year': 0.18181818181818182, 'dismissed': 0.09090909090909091, 'low': 0.09090909090909091, '18-run': 0.09090909090909091, 'debut': 0.09090909090909091, 'match': 0.09090909090909091, 'Sri': 0.09090909090909091, 'lanka': 0.09090909090909091, 'later': 0.2727272727272727, 'scored': 0.2727272727272727, 'century': 0.18181818181818182, 'looking': 0.09090909090909091, 'regular': 0.09090909090909091, 'squad': 0.18181818181818182, 'included': 0.09090909090909091, '2011': 0.09090909090909091, 'Bangladesh': 0.09090909090909091, 'started': 0.09090909090909091, 'campaign': 0.09090909090909091, 'contributed': 0.09090909090909091, 'crucial': 0.09090909090909091, '35': 0.09090909090909091, 'final': 0.09090909090909091, 'ended': 0.09090909090909091, 'memorable': 0.09090909090909091, 'MS': 0.18181818181818182, 'Dhoni': 0.18181818181818182, 'Apart': 0.09090909090909091, 'winning': 0.18181818181818182, 'striking': 0.09090909090909091, 'image': 0.09090909090909091, 'carrying': 0.09090909090909091, 'idol': 0.09090909090909091, 'Sachin': 0.18181818181818182, 'shoulders': 0.09090909090909091, 'giving': 0.09090909090909091, 'signs': 0.09090909090909091, 'things': 0.09090909090909091, 'come': 0.09090909090909091, 'future': 0.09090909090909091, 'asked': 0.09090909090909091, 'breaking': 0.09090909090909091, 'record': 0.09090909090909091, '100': 0.09090909090909091, 'tons': 0.09090909090909091, 'Rohit': 0.09090909090909091, 'ones': 0.09090909090909091, 'Setbacks': 0.09090909090909091, 'highest': 0.09090909090909091, 'title': 0.09090909090909091, 'cricket': 0.09090909090909091, 'expectations': 0.09090909090909091, 'rose': 0.09090909090909091, 'higher': 0.09090909090909091, 'poor': 0.18181818181818182, 'Premier': 0.09090909090909091, 'League(IPL': 0.09090909090909091, 'season': 0.09090909090909091, '2012': 0.09090909090909091, 'admitted': 0.09090909090909091, 'glamorous': 0.09090909090909091, 'league': 0.09090909090909091, 'distracted': 0.09090909090909091, 'scores': 0.09090909090909091, '1,8,25,0,39,28,0,7,6': 0.09090909090909091, '20': 0.09090909090909091, 'tests': 0.18181818181818182, 'England': 0.45454545454545453, '2014': 0.2727272727272727, 'followed': 0.09090909090909091, 'Looking': 0.09090909090909091, 'bleak': 0.09090909090909091, 'phase': 0.18181818181818182, 'gone': 0.09090909090909091, 'career': 0.18181818181818182, 'felt': 0.09090909090909091, 'end': 0.09090909090909091, 'world': 0.18181818181818182, 'know': 0.09090909090909091, 'speak': 0.09090909090909091, 'communicate': 0.09090909090909091, 'average': 0.09090909090909091, '13.50': 0.09090909090909091, 'Road': 0.09090909090909091, 'Greatness': 0.09090909090909091, 'Champions': 0.09090909090909091, 'built': 0.09090909090909091, 'overnight': 0.09090909090909091, 'setbacks': 0.09090909090909091, 'opportunities': 0.09090909090909091, 'perform': 0.09090909090909091, 'new': 0.09090909090909091, 'level': 0.09090909090909091, 'Post': 0.09090909090909091, 'tour': 0.09090909090909091, 'rough': 0.09090909090909091, 'patch': 0.09090909090909091, '2018': 0.09090909090909091, 'amassed': 0.09090909090909091, '593': 0.09090909090909091, 'hit': 0.09090909090909091, '2': 0.09090909090909091, 'taking': 0.09090909090909091, 'led': 0.09090909090909091, 'team': 0.36363636363636365, 'series': 0.18181818181818182, 'win': 0.2727272727272727, 'South': 0.09090909090909091, 'Africa': 0.09090909090909091, 'Australia': 0.09090909090909091, 'Asian': 0.09090909090909091, '2019': 0.09090909090909091, 'successful': 0.09090909090909091, 'test': 0.09090909090909091, '33': 0.09090909090909091, 'wins': 0.09090909090909091, 'decade': 0.09090909090909091, 'numerous': 0.09090909090909091, 'records': 0.09090909090909091, 'way': 0.09090909090909091, 'ahead': 0.18181818181818182, 'peers': 0.09090909090909091, 'terms': 0.09090909090909091, 'statistics': 0.09090909090909091, 'age': 0.09090909090909091, '31': 0.09090909090909091, 'peak': 0.09090909090909091, 'powers': 0.09090909090909091, 'steps': 0.09090909090909091, 'field': 0.09090909090909091, 'leading': 0.09090909090909091, 'intensity': 0.09090909090909091, 'hunger': 0.09090909090909091, 'evident': 0.09090909090909091, 'demeanour': 0.09090909090909091, 'makes': 0.09090909090909091}\n"
     ]
    }
   ],
   "source": [
    "print(word_frequencies)"
   ]
  },
  {
   "cell_type": "markdown",
   "metadata": {},
   "source": [
    "# Now After Doing this thing for word we will do same thing for sentence"
   ]
  },
  {
   "cell_type": "code",
   "execution_count": 28,
   "metadata": {},
   "outputs": [],
   "source": [
    "Sentence_token = [sent for sent in doc.sents]"
   ]
  },
  {
   "cell_type": "code",
   "execution_count": 29,
   "metadata": {},
   "outputs": [
    {
     "data": {
      "text/plain": [
       "[Started out as a brash youngster, immense amount of hard work, commitment and will power made him the best and cut above the rest.,\n",
       " Image for post,\n",
       " Virat Kohli already has 70 international centuries to his name and is the quickest to reach the milestone.,\n",
       " Virat Kohli is arguably the best batsman across all formats today.,\n",
       " He began his journey in 2008.,\n",
       " “Cheeku” as called by his teammates in his initial days, he has earned several other nicknames over the years.,\n",
       " The superfluity of runs and consistency over the years has been the reason why he has been adorned with nicknames like Run Machine, Chase master and King Kohli.,\n",
       " Today, Virat has the most double centuries as captain, fastest to reach 20,000 international runs and also the first cricketer to clean sweep the annual ICC awards.,\n",
       " This meteoric rise of the Indian Captain has made him a favorite of the whole country.,\n",
       " The Beginning,\n",
       " “I was playing a four day game at the time and was supposed to resume batting the next day when this (father passed) happened at 2:30 odd in the morning.,\n",
       " We all woke up but had no idea what to do.,\n",
       " I literally saw him breathe his last,” said Virat Kohli in an interview.,\n",
       " Kohli was playing for Delhi against Karnataka and went on to score 90.,\n",
       " “Now I feel like it was the most impactful thing to have happened in my life.,\n",
       " I came back from the game for the last rites, and promised my brother that I will play for India.,\n",
       " My father was keen that I play for India and that was when everything in life became second priority.,\n",
       " Cricket became first priority.,\n",
       " It was under Virat’s leadership that India tasted success at the Under-19 World Cup in 2008.,\n",
       " He got his maiden call for the national side in the same year.,\n",
       " He was dismissed due to his low 18-run score in his debut match.,\n",
       " Against Sri lanka, a year later, he scored his first international century and there has been no looking back since then.,\n",
       " Image for post,\n",
       " He became part of the regular squad and was included in the World Cup squad of 2011.,\n",
       " He scored a century against Bangladesh which started India’s campaign.,\n",
       " Kohli contributed a crucial 35 in the final that ended with a memorable six by the then captain MS Dhoni.,\n",
       " Apart from the winning six, another striking image was of Virat carrying his idol Sachin on his shoulders giving signs of things to come in the future.,\n",
       " When the master was asked on whom does he see breaking his record of 100 international tons, he said, “ Virat and Rohit are the ones.”,\n",
       " The Setbacks,\n",
       " After winning the highest title of cricket, expectations rose higher.,\n",
       " He had a poor Indian Premier League(IPL) season in 2012.,\n",
       " He later admitted that the glamorous side of the league had got to him, that he was distracted due to it.,\n",
       " A poor show with scores of 1,8,25,0,39,28,0,7,6 and 20 in the five tests in England in 2014 followed thereafter.,\n",
       " Looking back at the bleak phase, he went on to say “I have gone through a phase in my career where I had felt that it was the end of the world.,\n",
       " I just didn’t know what to do and what to say to anyone, how to speak, how to communicate.”,\n",
       " Image for post,\n",
       " He had an average of 13.50 in the five tests against England in 2014.,\n",
       " Road to Greatness,\n",
       " Champions are not built overnight and setbacks are opportunities to perform at a new level.,\n",
       " Post the tour of England in 2014, Kohli never had a rough patch in his career.,\n",
       " Four years later in 2018, he amassed 593 runs and hit 2 centuries in England.,\n",
       " After taking over as the captain from MS Dhoni, Kohli has led the team to series win in South Africa, England and Australia.,\n",
       " His team became the first Asian team to win the series down under in 2019.,\n",
       " He is the most successful test captain with 33 wins.,\n",
       " Kohli has 70 centuries only behind Sachin.,\n",
       " He scored over 20,000 runs in the last decade.,\n",
       " With numerous such records, he is way ahead of his peers in terms of statistics and consistency.,\n",
       " Image for post,\n",
       " Kohli, at the age of 31, is at the peak of his powers.,\n",
       " Whenever he steps on the field leading his team, the intensity and hunger to win is evident in his demeanour.,\n",
       " This is what makes Virat Kohli ahead of any cricketer and a cut above the rest in the world.]"
      ]
     },
     "execution_count": 29,
     "metadata": {},
     "output_type": "execute_result"
    }
   ],
   "source": [
    "Sentence_token"
   ]
  },
  {
   "cell_type": "code",
   "execution_count": 30,
   "metadata": {},
   "outputs": [],
   "source": [
    "Sentence_score = {}\n",
    "for sent in Sentence_token:\n",
    "    for word in sent:\n",
    "        if word.text.lower() in word_frequencies.keys():\n",
    "            if sent not in Sentence_score.keys():\n",
    "                Sentence_score[sent] = word_frequencies[word.text.lower()]\n",
    "            else:\n",
    "                Sentence_score[sent]+= word_frequencies[word.text.lower()]"
   ]
  },
  {
   "cell_type": "code",
   "execution_count": 31,
   "metadata": {},
   "outputs": [
    {
     "data": {
      "text/plain": [
       "{Started out as a brash youngster, immense amount of hard work, commitment and will power made him the best and cut above the rest.: 1.272727272727273,\n",
       " Image for post: 0.4545454545454546,\n",
       " Virat Kohli already has 70 international centuries to his name and is the quickest to reach the milestone.: 1.2727272727272727,\n",
       " Virat Kohli is arguably the best batsman across all formats today.: 0.5454545454545455,\n",
       " He began his journey in 2008.: 0.36363636363636365,\n",
       " “Cheeku” as called by his teammates in his initial days, he has earned several other nicknames over the years.: 1.727272727272727,\n",
       " The superfluity of runs and consistency over the years has been the reason why he has been adorned with nicknames like Run Machine, Chase master and King Kohli.: 1.6363636363636365,\n",
       " Today, Virat has the most double centuries as captain, fastest to reach 20,000 international runs and also the first cricketer to clean sweep the annual ICC awards.: 2.6363636363636362,\n",
       " This meteoric rise of the Indian Captain has made him a favorite of the whole country.: 0.7272727272727273,\n",
       " “I was playing a four day game at the time and was supposed to resume batting the next day when this (father passed) happened at 2:30 odd in the morning.: 2.2727272727272725,\n",
       " We all woke up but had no idea what to do.: 0.18181818181818182,\n",
       " I literally saw him breathe his last,” said Virat Kohli in an interview.: 0.9090909090909091,\n",
       " Kohli was playing for Delhi against Karnataka and went on to score 90.: 0.6363636363636364,\n",
       " “Now I feel like it was the most impactful thing to have happened in my life.: 1.272727272727273,\n",
       " I came back from the game for the last rites, and promised my brother that I will play for India.: 0.7272727272727273,\n",
       " My father was keen that I play for India and that was when everything in life became second priority.: 0.9090909090909092,\n",
       " Cricket became first priority.: 0.2727272727272727,\n",
       " It was under Virat’s leadership that India tasted success at the Under-19 World Cup in 2008.: 0.6363636363636364,\n",
       " He got his maiden call for the national side in the same year.: 0.5454545454545454,\n",
       " He was dismissed due to his low 18-run score in his debut match.: 0.6363636363636364,\n",
       " Against Sri lanka, a year later, he scored his first international century and there has been no looking back since then.: 1.4545454545454544,\n",
       " Image for post: 0.4545454545454546,\n",
       " He became part of the regular squad and was included in the World Cup squad of 2011.: 0.8181818181818182,\n",
       " He scored a century against Bangladesh which started India’s campaign.: 0.6363636363636364,\n",
       " Kohli contributed a crucial 35 in the final that ended with a memorable six by the then captain MS Dhoni.: 0.9090909090909092,\n",
       " Apart from the winning six, another striking image was of Virat carrying his idol Sachin on his shoulders giving signs of things to come in the future.: 1.090909090909091,\n",
       " When the master was asked on whom does he see breaking his record of 100 international tons, he said, “ Virat and Rohit are the ones.”: 2.090909090909091,\n",
       " The Setbacks: 0.09090909090909091,\n",
       " After winning the highest title of cricket, expectations rose higher.: 0.7272727272727274,\n",
       " He had a poor Indian Premier League(IPL) season in 2012.: 0.36363636363636365,\n",
       " He later admitted that the glamorous side of the league had got to him, that he was distracted due to it.: 0.8181818181818182,\n",
       " A poor show with scores of 1,8,25,0,39,28,0,7,6 and 20 in the five tests in England in 2014 followed thereafter.: 1.0,\n",
       " Looking back at the bleak phase, he went on to say “I have gone through a phase in my career where I had felt that it was the end of the world.: 1.8181818181818181,\n",
       " I just didn’t know what to do and what to say to anyone, how to speak, how to communicate.”: 0.6363636363636364,\n",
       " Image for post: 0.4545454545454546,\n",
       " He had an average of 13.50 in the five tests against England in 2014.: 0.6363636363636364,\n",
       " Champions are not built overnight and setbacks are opportunities to perform at a new level.: 0.6363636363636365,\n",
       " Post the tour of England in 2014, Kohli never had a rough patch in his career.: 1.090909090909091,\n",
       " Four years later in 2018, he amassed 593 runs and hit 2 centuries in England.: 1.727272727272727,\n",
       " After taking over as the captain from MS Dhoni, Kohli has led the team to series win in South Africa, England and Australia.: 1.3636363636363638,\n",
       " His team became the first Asian team to win the series down under in 2019.: 1.2727272727272727,\n",
       " He is the most successful test captain with 33 wins.: 0.7272727272727273,\n",
       " Kohli has 70 centuries only behind Sachin.: 0.5454545454545454,\n",
       " He scored over 20,000 runs in the last decade.: 0.9090909090909091,\n",
       " With numerous such records, he is way ahead of his peers in terms of statistics and consistency.: 0.9090909090909092,\n",
       " Image for post: 0.4545454545454546,\n",
       " Kohli, at the age of 31, is at the peak of his powers.: 0.36363636363636365,\n",
       " Whenever he steps on the field leading his team, the intensity and hunger to win is evident in his demeanour.: 1.2727272727272725,\n",
       " This is what makes Virat Kohli ahead of any cricketer and a cut above the rest in the world.: 1.0}"
      ]
     },
     "execution_count": 31,
     "metadata": {},
     "output_type": "execute_result"
    }
   ],
   "source": [
    "Sentence_score"
   ]
  },
  {
   "cell_type": "code",
   "execution_count": 32,
   "metadata": {},
   "outputs": [],
   "source": [
    "from heapq import nlargest"
   ]
  },
  {
   "cell_type": "code",
   "execution_count": 33,
   "metadata": {},
   "outputs": [],
   "source": [
    "select_length = int(len(Sentence_token)*0.3)"
   ]
  },
  {
   "cell_type": "code",
   "execution_count": 34,
   "metadata": {},
   "outputs": [
    {
     "data": {
      "text/plain": [
       "15"
      ]
     },
     "execution_count": 34,
     "metadata": {},
     "output_type": "execute_result"
    }
   ],
   "source": [
    "select_length"
   ]
  },
  {
   "cell_type": "code",
   "execution_count": 35,
   "metadata": {},
   "outputs": [],
   "source": [
    "Summary = nlargest(select_length,Sentence_score,key=Sentence_score.get)"
   ]
  },
  {
   "cell_type": "code",
   "execution_count": 36,
   "metadata": {},
   "outputs": [
    {
     "data": {
      "text/plain": [
       "[Today, Virat has the most double centuries as captain, fastest to reach 20,000 international runs and also the first cricketer to clean sweep the annual ICC awards.,\n",
       " “I was playing a four day game at the time and was supposed to resume batting the next day when this (father passed) happened at 2:30 odd in the morning.,\n",
       " When the master was asked on whom does he see breaking his record of 100 international tons, he said, “ Virat and Rohit are the ones.”,\n",
       " Looking back at the bleak phase, he went on to say “I have gone through a phase in my career where I had felt that it was the end of the world.,\n",
       " “Cheeku” as called by his teammates in his initial days, he has earned several other nicknames over the years.,\n",
       " Four years later in 2018, he amassed 593 runs and hit 2 centuries in England.,\n",
       " The superfluity of runs and consistency over the years has been the reason why he has been adorned with nicknames like Run Machine, Chase master and King Kohli.,\n",
       " Against Sri lanka, a year later, he scored his first international century and there has been no looking back since then.,\n",
       " After taking over as the captain from MS Dhoni, Kohli has led the team to series win in South Africa, England and Australia.,\n",
       " Started out as a brash youngster, immense amount of hard work, commitment and will power made him the best and cut above the rest.,\n",
       " “Now I feel like it was the most impactful thing to have happened in my life.,\n",
       " Virat Kohli already has 70 international centuries to his name and is the quickest to reach the milestone.,\n",
       " His team became the first Asian team to win the series down under in 2019.,\n",
       " Whenever he steps on the field leading his team, the intensity and hunger to win is evident in his demeanour.,\n",
       " Apart from the winning six, another striking image was of Virat carrying his idol Sachin on his shoulders giving signs of things to come in the future.]"
      ]
     },
     "execution_count": 36,
     "metadata": {},
     "output_type": "execute_result"
    }
   ],
   "source": [
    "Summary"
   ]
  },
  {
   "cell_type": "code",
   "execution_count": 37,
   "metadata": {},
   "outputs": [],
   "source": [
    "Final_summary = [word.text for word in Summary]"
   ]
  },
  {
   "cell_type": "code",
   "execution_count": 38,
   "metadata": {},
   "outputs": [],
   "source": [
    "Summary = \" \".join(Final_summary)"
   ]
  },
  {
   "cell_type": "code",
   "execution_count": 39,
   "metadata": {},
   "outputs": [
    {
     "name": "stdout",
     "output_type": "stream",
     "text": [
      "Initail Paragraph Was of Length 4104 Which Get Summarise To Length 1852\n"
     ]
    }
   ],
   "source": [
    "print(f\"Initail Paragraph Was of Length {len(text)} Which Get Summarise To Length {len(Summary)}\")"
   ]
  },
  {
   "cell_type": "code",
   "execution_count": 40,
   "metadata": {},
   "outputs": [
    {
     "name": "stdout",
     "output_type": "stream",
     "text": [
      "Today, Virat has the most double centuries as captain, fastest to reach 20,000 international runs and also the first cricketer to clean sweep the annual ICC awards. “I was playing a four day game at the time and was supposed to resume batting the next day when this (father passed) happened at 2:30 odd in the morning. When the master was asked on whom does he see breaking his record of 100 international tons, he said, “ Virat and Rohit are the ones.”\n",
      " Looking back at the bleak phase, he went on to say “I have gone through a phase in my career where I had felt that it was the end of the world. “Cheeku” as called by his teammates in his initial days, he has earned several other nicknames over the years. Four years later in 2018, he amassed 593 runs and hit 2 centuries in England.\n",
      " The superfluity of runs and consistency over the years has been the reason why he has been adorned with nicknames like Run Machine, Chase master and King Kohli. Against Sri lanka, a year later, he scored his first international century and there has been no looking back since then.\n",
      " After taking over as the captain from MS Dhoni, Kohli has led the team to series win in South Africa, England and Australia. Started out as a brash youngster, immense amount of hard work, commitment and will power made him the best and cut above the rest.\n",
      " “Now I feel like it was the most impactful thing to have happened in my life. Virat Kohli already has 70 international centuries to his name and is the quickest to reach the milestone.\n",
      " His team became the first Asian team to win the series down under in 2019. Whenever he steps on the field leading his team, the intensity and hunger to win is evident in his demeanour. Apart from the winning six, another striking image was of Virat carrying his idol Sachin on his shoulders giving signs of things to come in the future.\n"
     ]
    }
   ],
   "source": [
    "print(Summary)"
   ]
  },
  {
   "cell_type": "code",
   "execution_count": null,
   "metadata": {},
   "outputs": [],
   "source": []
  }
 ],
 "metadata": {
  "kernelspec": {
   "display_name": "Python 3",
   "language": "python",
   "name": "python3"
  },
  "language_info": {
   "codemirror_mode": {
    "name": "ipython",
    "version": 3
   },
   "file_extension": ".py",
   "mimetype": "text/x-python",
   "name": "python",
   "nbconvert_exporter": "python",
   "pygments_lexer": "ipython3",
   "version": "3.6.10"
  }
 },
 "nbformat": 4,
 "nbformat_minor": 4
}
